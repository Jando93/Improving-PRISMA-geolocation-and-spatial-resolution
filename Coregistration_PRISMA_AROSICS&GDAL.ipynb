{
 "cells": [
  {
   "cell_type": "code",
   "execution_count": 1,
   "id": "850c98af",
   "metadata": {},
   "outputs": [],
   "source": [
    "import matplotlib.pyplot as plt\n",
    "import numpy as np\n",
    "from osgeo import gdal, osr, ogr\n",
    "import pandas as pd\n",
    "import geopandas as gpd\n",
    "import os\n",
    "from arosics import COREG_LOCAL"
   ]
  },
  {
   "cell_type": "code",
   "execution_count": 2,
   "id": "b231b585",
   "metadata": {},
   "outputs": [],
   "source": [
    "path = 'C:\\\\Users\\\\IBE_TEST\\\\Documents\\\\CNR-IBE\\\\Dati\\\\PRISMA_pansharpening_project\\\\ARBOREA\\\\'"
   ]
  },
  {
   "cell_type": "code",
   "execution_count": 3,
   "id": "9a2ef95d",
   "metadata": {},
   "outputs": [],
   "source": [
    "im_target = path+'PRS_L2D_STD_20220530102847_20220530102851_0001_VNIR_SWIR.tif'\n",
    "im_reference    = path+'S2A_MSIL2A_20220531T101611_N0400_R065_T32SM_20220531T163910_mosaicked_B4_Rescaled0-1_clipped.tif'"
   ]
  },
  {
   "cell_type": "code",
   "execution_count": null,
   "id": "eacfd715",
   "metadata": {},
   "outputs": [],
   "source": [
    "'''\n",
    "VNIR\n",
    "B2-492.3 = B12-489.8\n",
    "B3-558.9 = B21-559.0\n",
    "B4-66.4.9 = B33-664.9\n",
    "B5-703.8 = B37-703.7\n",
    "B6-739.1 = B40-734.0\n",
    "B7-779.7 = B44-775.3\n",
    "B8-832.9 = B49-827.9\n",
    "B8A-864.0 = B52 - 860.0\n",
    "\n",
    "SWIR\n",
    "B11-1610.4 = B64-1606.5\n",
    "B12-2185.7 = B128-183.4\n",
    "\n",
    "'''"
   ]
  },
  {
   "cell_type": "code",
   "execution_count": null,
   "id": "0ad8ed0e",
   "metadata": {},
   "outputs": [],
   "source": [
    "sentinel_bands = [1, #B2\n",
    "                  2, #B3\n",
    "                  3, #B4\n",
    "                  4, #B5\n",
    "                  5, #B6\n",
    "                  6, #B7\n",
    "                  7, #B8\n",
    "                  8, #B11\n",
    "                  9  #B12    \n",
    "                 ]\n",
    "\n",
    "sentinel_bands_name = [2,\n",
    "                  3,\n",
    "                  4,\n",
    "                  5,\n",
    "                  6,\n",
    "                  7,\n",
    "                  8,\n",
    "                  11,\n",
    "                  12   \n",
    "                 ]\n",
    "\n",
    "prisma_bands = [12,\n",
    "                21,\n",
    "                33,\n",
    "                37,\n",
    "                40,\n",
    "                44,\n",
    "                49,\n",
    "                132,\n",
    "                196\n",
    "               ]"
   ]
  },
  {
   "cell_type": "code",
   "execution_count": 4,
   "id": "8d7f9ca7",
   "metadata": {},
   "outputs": [
    {
     "name": "stdout",
     "output_type": "stream",
     "text": [
      "Calculating footprint polygon and actual data corner coordinates for reference image...\n",
      "Bounding box of calculated footprint for reference image:\n",
      "\t(441560.0, 4380370.0, 491680.0, 4427180.0)\n"
     ]
    },
    {
     "name": "stderr",
     "output_type": "stream",
     "text": [
      "Polygonize progress     |==================================================| 100.0% Complete  => 0:00:00\n"
     ]
    },
    {
     "name": "stdout",
     "output_type": "stream",
     "text": [
      "Automatically detected nodata value for GeoArray_CoReg 'PRS_L2D_STD_20220530102847_20220530102851_0001_VNIR_SWIR': 0.0\n",
      "Calculating footprint polygon and actual data corner coordinates for image to be shifted...\n",
      "Bounding box of calculated footprint for image to be shifted:\n",
      "\t(446812.46875, 4384977.5, 485272.46875, 4421907.5)\n",
      "Matching window position (X,Y): 466022.4136484426/4403472.312072008\n",
      "Initializing tie points grid...\n"
     ]
    },
    {
     "name": "stderr",
     "output_type": "stream",
     "text": [
      "Warping progress     |=========================-------------------------| 49.0% Complete  => 0:00:00"
     ]
    },
    {
     "name": "stdout",
     "output_type": "stream",
     "text": [
      "Equalizing pixel grids and projections of reference and target image...\n"
     ]
    },
    {
     "name": "stderr",
     "output_type": "stream",
     "text": [
      "Warping progress     |==================================================| 100.0% Complete  => 0:00:00\n",
      "Warping progress     |==================================================| 100.0% Complete  => 0:00:00\n"
     ]
    },
    {
     "name": "stdout",
     "output_type": "stream",
     "text": [
      "Calculating tie point grid (1179 points) using 20 CPU cores...\n"
     ]
    },
    {
     "name": "stderr",
     "output_type": "stream",
     "text": [
      "\tprogress: |==================================================| 100.0% Complete  => 0:02:31\n"
     ]
    },
    {
     "ename": "ValueError",
     "evalue": "The length of the given lists must be equal to the number of bands. Received a list with 3 items for 'STATISTICS_APPROXIMATE'.",
     "output_type": "error",
     "traceback": [
      "\u001b[1;31m---------------------------------------------------------------------------\u001b[0m",
      "\u001b[1;31mRemoteTraceback\u001b[0m                           Traceback (most recent call last)",
      "\u001b[1;31mRemoteTraceback\u001b[0m: \n\"\"\"\nTraceback (most recent call last):\n  File \"C:\\Users\\IBE_TEST\\anaconda3\\envs\\arosics\\lib\\multiprocessing\\pool.py\", line 125, in worker\n    result = (True, func(*args, **kwds))\n  File \"C:\\Users\\IBE_TEST\\anaconda3\\envs\\arosics\\lib\\multiprocessing\\pool.py\", line 48, in mapstar\n    return list(map(*args))\n  File \"C:\\Users\\IBE_TEST\\anaconda3\\envs\\arosics\\lib\\site-packages\\arosics\\Tie_Point_Grid.py\", line 301, in _get_spatial_shifts\n    CR.calculate_spatial_shifts()\n  File \"C:\\Users\\IBE_TEST\\anaconda3\\envs\\arosics\\lib\\site-packages\\arosics\\CoReg.py\", line 1638, in calculate_spatial_shifts\n    self._validate_ssim_improvement()  # FIXME uses the not updated matchWin size\n  File \"C:\\Users\\IBE_TEST\\anaconda3\\envs\\arosics\\lib\\site-packages\\arosics\\CoReg.py\", line 1442, in _validate_ssim_improvement\n    otherWin_deshift_geoArr = self._get_deshifted_otherWin()\n  File \"C:\\Users\\IBE_TEST\\anaconda3\\envs\\arosics\\lib\\site-packages\\arosics\\CoReg.py\", line 1394, in _get_deshifted_otherWin\n    ds_results = DESHIFTER(otherFull, coreg_info,\n  File \"C:\\Users\\IBE_TEST\\anaconda3\\envs\\arosics\\lib\\site-packages\\arosics\\DeShifter.py\", line 400, in correct_shifts\n    out_geoArr.metadata = self.im2shift.metadata[[self.band2process]] \\\n  File \"C:\\Users\\IBE_TEST\\anaconda3\\envs\\arosics\\lib\\site-packages\\geoarray\\metadata.py\", line 297, in __getitem__\n    return self.get_subset(bands2extract=given)\n  File \"C:\\Users\\IBE_TEST\\anaconda3\\envs\\arosics\\lib\\site-packages\\geoarray\\metadata.py\", line 260, in get_subset\n    meta_sub.band_meta = self.band_meta.copy()\n  File \"C:\\Users\\IBE_TEST\\anaconda3\\envs\\arosics\\lib\\site-packages\\geoarray\\metadata.py\", line 112, in band_meta\n    raise ValueError(\"The length of the given lists must be equal to the number of bands. \"\nValueError: The length of the given lists must be equal to the number of bands. Received a list with 3 items for 'STATISTICS_APPROXIMATE'.\n\"\"\"",
      "\nThe above exception was the direct cause of the following exception:\n",
      "\u001b[1;31mValueError\u001b[0m                                Traceback (most recent call last)",
      "Cell \u001b[1;32mIn[4], line 17\u001b[0m\n\u001b[0;32m      1\u001b[0m CRL \u001b[38;5;241m=\u001b[39m COREG_LOCAL(im_reference,\n\u001b[0;32m      2\u001b[0m                   im_target, \n\u001b[0;32m      3\u001b[0m                   grid_res \u001b[38;5;241m=\u001b[39m \u001b[38;5;241m30\u001b[39m,\n\u001b[1;32m   (...)\u001b[0m\n\u001b[0;32m     14\u001b[0m                   s_b4match \u001b[38;5;241m=\u001b[39m \u001b[38;5;241m33\u001b[39m,\n\u001b[0;32m     15\u001b[0m                   ignore_errors \u001b[38;5;241m=\u001b[39m \u001b[38;5;28;01mTrue\u001b[39;00m)\n\u001b[1;32m---> 17\u001b[0m \u001b[43mCRL\u001b[49m\u001b[38;5;241;43m.\u001b[39;49m\u001b[43mcorrect_shifts\u001b[49m\u001b[43m(\u001b[49m\u001b[43m)\u001b[49m\n\u001b[0;32m     18\u001b[0m points \u001b[38;5;241m=\u001b[39m CRL\u001b[38;5;241m.\u001b[39mCoRegPoints_table\n\u001b[0;32m     19\u001b[0m CRL\u001b[38;5;241m.\u001b[39mtiepoint_grid\u001b[38;5;241m.\u001b[39mto_PointShapefile(path_out\u001b[38;5;241m=\u001b[39mpath\u001b[38;5;241m+\u001b[39m\u001b[38;5;124m'\u001b[39m\u001b[38;5;124mAROSICS_output\u001b[39m\u001b[38;5;130;01m\\\\\u001b[39;00m\u001b[38;5;124mAROSICS_TiePoints_Local_B3_PAN_20220530102847.shp\u001b[39m\u001b[38;5;124m'\u001b[39m)\n",
      "File \u001b[1;32m~\\anaconda3\\envs\\arosics\\lib\\site-packages\\arosics\\CoReg_local.py:820\u001b[0m, in \u001b[0;36mCOREG_LOCAL.correct_shifts\u001b[1;34m(self, max_GCP_count, cliptoextent, min_points_local_corr)\u001b[0m\n\u001b[0;32m    808\u001b[0m \u001b[38;5;250m\u001b[39m\u001b[38;5;124;03m\"\"\"Perform a local shift correction using all points from the previously calculated tie point grid.\u001b[39;00m\n\u001b[0;32m    809\u001b[0m \n\u001b[0;32m    810\u001b[0m \u001b[38;5;124;03mNOTE: Only valid matches are used as GCP points.\u001b[39;00m\n\u001b[1;32m   (...)\u001b[0m\n\u001b[0;32m    817\u001b[0m \u001b[38;5;124;03m:return:\u001b[39;00m\n\u001b[0;32m    818\u001b[0m \u001b[38;5;124;03m\"\"\"\u001b[39;00m\n\u001b[0;32m    819\u001b[0m \u001b[38;5;28;01mif\u001b[39;00m \u001b[38;5;129;01mnot\u001b[39;00m \u001b[38;5;28mself\u001b[39m\u001b[38;5;241m.\u001b[39m_tiepoint_grid:\n\u001b[1;32m--> 820\u001b[0m     \u001b[38;5;28;43mself\u001b[39;49m\u001b[38;5;241;43m.\u001b[39;49m\u001b[43mcalculate_spatial_shifts\u001b[49m\u001b[43m(\u001b[49m\u001b[43m)\u001b[49m\n\u001b[0;32m    822\u001b[0m \u001b[38;5;28;01mif\u001b[39;00m \u001b[38;5;28mself\u001b[39m\u001b[38;5;241m.\u001b[39mtiepoint_grid\u001b[38;5;241m.\u001b[39mGCPList:\n\u001b[0;32m    823\u001b[0m     \u001b[38;5;28;01mif\u001b[39;00m max_GCP_count:\n",
      "File \u001b[1;32m~\\anaconda3\\envs\\arosics\\lib\\site-packages\\arosics\\CoReg_local.py:490\u001b[0m, in \u001b[0;36mCOREG_LOCAL.calculate_spatial_shifts\u001b[1;34m(self)\u001b[0m\n\u001b[0;32m    473\u001b[0m \u001b[38;5;28;01mdef\u001b[39;00m \u001b[38;5;21mcalculate_spatial_shifts\u001b[39m(\u001b[38;5;28mself\u001b[39m) \u001b[38;5;241m-\u001b[39m\u001b[38;5;241m>\u001b[39m \u001b[38;5;28;01mNone\u001b[39;00m:\n\u001b[0;32m    474\u001b[0m     \u001b[38;5;28mself\u001b[39m\u001b[38;5;241m.\u001b[39m_tiepoint_grid \u001b[38;5;241m=\u001b[39m \\\n\u001b[0;32m    475\u001b[0m         Tie_Point_Grid(\u001b[38;5;28mself\u001b[39m\u001b[38;5;241m.\u001b[39mCOREG_obj, \u001b[38;5;28mself\u001b[39m\u001b[38;5;241m.\u001b[39mgrid_res,\n\u001b[0;32m    476\u001b[0m                        max_points\u001b[38;5;241m=\u001b[39m\u001b[38;5;28mself\u001b[39m\u001b[38;5;241m.\u001b[39mmax_points,\n\u001b[1;32m   (...)\u001b[0m\n\u001b[0;32m    488\u001b[0m                        v\u001b[38;5;241m=\u001b[39m\u001b[38;5;28mself\u001b[39m\u001b[38;5;241m.\u001b[39mv,\n\u001b[0;32m    489\u001b[0m                        q\u001b[38;5;241m=\u001b[39m\u001b[38;5;28mself\u001b[39m\u001b[38;5;241m.\u001b[39mq)\n\u001b[1;32m--> 490\u001b[0m     \u001b[38;5;28;43mself\u001b[39;49m\u001b[38;5;241;43m.\u001b[39;49m\u001b[43m_tiepoint_grid\u001b[49m\u001b[38;5;241;43m.\u001b[39;49m\u001b[43mget_CoRegPoints_table\u001b[49m\u001b[43m(\u001b[49m\u001b[43m)\u001b[49m\n\u001b[0;32m    492\u001b[0m     \u001b[38;5;28;01mif\u001b[39;00m \u001b[38;5;28mself\u001b[39m\u001b[38;5;241m.\u001b[39mv:\n\u001b[0;32m    493\u001b[0m         \u001b[38;5;28mprint\u001b[39m(\u001b[38;5;124m'\u001b[39m\u001b[38;5;124mVisualizing CoReg points grid...\u001b[39m\u001b[38;5;124m'\u001b[39m)\n",
      "File \u001b[1;32m~\\anaconda3\\envs\\arosics\\lib\\site-packages\\arosics\\Tie_Point_Grid.py:405\u001b[0m, in \u001b[0;36mTie_Point_Grid.get_CoRegPoints_table\u001b[1;34m(self)\u001b[0m\n\u001b[0;32m    401\u001b[0m             bar\u001b[38;5;241m.\u001b[39mprint_progress(percent\u001b[38;5;241m=\u001b[39mnumberDone \u001b[38;5;241m/\u001b[39m \u001b[38;5;28mlen\u001b[39m(GDF) \u001b[38;5;241m*\u001b[39m \u001b[38;5;241m100\u001b[39m)\n\u001b[0;32m    402\u001b[0m         \u001b[38;5;28;01mif\u001b[39;00m results\u001b[38;5;241m.\u001b[39mready():\n\u001b[0;32m    403\u001b[0m             \u001b[38;5;66;03m# <= this is the line where multiprocessing can freeze if an exception appears within\u001b[39;00m\n\u001b[0;32m    404\u001b[0m             \u001b[38;5;66;03m# COREG and is not raised\u001b[39;00m\n\u001b[1;32m--> 405\u001b[0m             results \u001b[38;5;241m=\u001b[39m \u001b[43mresults\u001b[49m\u001b[38;5;241;43m.\u001b[39;49m\u001b[43mget\u001b[49m\u001b[43m(\u001b[49m\u001b[43m)\u001b[49m\n\u001b[0;32m    406\u001b[0m             \u001b[38;5;28;01mbreak\u001b[39;00m\n\u001b[0;32m    407\u001b[0m pool\u001b[38;5;241m.\u001b[39mclose()  \u001b[38;5;66;03m# needed to make coverage work in multiprocessing\u001b[39;00m\n",
      "File \u001b[1;32m~\\anaconda3\\envs\\arosics\\lib\\multiprocessing\\pool.py:771\u001b[0m, in \u001b[0;36mApplyResult.get\u001b[1;34m(self, timeout)\u001b[0m\n\u001b[0;32m    769\u001b[0m     \u001b[38;5;28;01mreturn\u001b[39;00m \u001b[38;5;28mself\u001b[39m\u001b[38;5;241m.\u001b[39m_value\n\u001b[0;32m    770\u001b[0m \u001b[38;5;28;01melse\u001b[39;00m:\n\u001b[1;32m--> 771\u001b[0m     \u001b[38;5;28;01mraise\u001b[39;00m \u001b[38;5;28mself\u001b[39m\u001b[38;5;241m.\u001b[39m_value\n",
      "\u001b[1;31mValueError\u001b[0m: The length of the given lists must be equal to the number of bands. Received a list with 3 items for 'STATISTICS_APPROXIMATE'."
     ]
    }
   ],
   "source": [
    "CRL = COREG_LOCAL(im_reference,\n",
    "                  im_target, \n",
    "                  grid_res = 30,\n",
    "                  window_size =(50,50),\n",
    "                  max_shift = 30,\n",
    "                  align_grids =False,\n",
    "                  match_gsd=False,\n",
    "                  resamp_alg_deshift = 'nearest',\n",
    "                  resamp_alg_calc = 'nearest',\n",
    "                  path_out = path+'AROSICS_output\\\\Registered_20220530102847_AROSICS_Local_B3_B33_____.tif',\n",
    "                  fmt_out = 'GTIFF',\n",
    "                  max_iter = 25,\n",
    "                  r_b4match = 1,\n",
    "                  s_b4match = 33,\n",
    "                  ignore_errors = True)\n",
    "\n",
    "CRL.correct_shifts()\n",
    "points = CRL.CoRegPoints_table\n",
    "CRL.tiepoint_grid.to_PointShapefile(path_out=path+'AROSICS_output\\\\AROSICS_TiePoints_Local_B3_PAN_20220530102847.shp')\n"
   ]
  },
  {
   "cell_type": "code",
   "execution_count": 5,
   "id": "f8ec550f",
   "metadata": {},
   "outputs": [
    {
     "name": "stdout",
     "output_type": "stream",
     "text": [
      "Calculating tie point grid (1179 points) using 20 CPU cores...\n"
     ]
    },
    {
     "name": "stderr",
     "output_type": "stream",
     "text": [
      "\n",
      "KeyboardInterrupt\n",
      "\n"
     ]
    }
   ],
   "source": [
    "CRL.correct_shifts()"
   ]
  },
  {
   "cell_type": "code",
   "execution_count": null,
   "id": "71643fe3",
   "metadata": {},
   "outputs": [],
   "source": [
    "points = CRL.CoRegPoints_table"
   ]
  },
  {
   "cell_type": "code",
   "execution_count": 6,
   "id": "d3e1bc06",
   "metadata": {},
   "outputs": [
    {
     "name": "stdout",
     "output_type": "stream",
     "text": [
      "Calculating tie point grid (1179 points) using 20 CPU cores...\n"
     ]
    },
    {
     "name": "stderr",
     "output_type": "stream",
     "text": [
      "\tprogress: |==------------------------------------------------| 4.0% Complete  => 0:00:07"
     ]
    },
    {
     "ename": "KeyboardInterrupt",
     "evalue": "",
     "output_type": "error",
     "traceback": [
      "\u001b[1;31m---------------------------------------------------------------------------\u001b[0m",
      "\u001b[1;31mKeyboardInterrupt\u001b[0m                         Traceback (most recent call last)",
      "Cell \u001b[1;32mIn[6], line 1\u001b[0m\n\u001b[1;32m----> 1\u001b[0m \u001b[43mCRL\u001b[49m\u001b[38;5;241;43m.\u001b[39;49m\u001b[43mtiepoint_grid\u001b[49m\u001b[38;5;241;43m.\u001b[39;49m\u001b[43mto_PointShapefile\u001b[49m\u001b[43m(\u001b[49m\u001b[43mpath_out\u001b[49m\u001b[38;5;241;43m=\u001b[39;49m\u001b[43mpath\u001b[49m\u001b[38;5;241;43m+\u001b[39;49m\u001b[38;5;124;43m'\u001b[39;49m\u001b[38;5;124;43mAROSICS_output\u001b[39;49m\u001b[38;5;130;43;01m\\\\\u001b[39;49;00m\u001b[38;5;124;43mAROSICS_TiePoints_Local_B3_B33_20220530102847_____.shp\u001b[39;49m\u001b[38;5;124;43m'\u001b[39;49m\u001b[43m)\u001b[49m\n",
      "File \u001b[1;32m~\\anaconda3\\envs\\arosics\\lib\\site-packages\\arosics\\Tie_Point_Grid.py:868\u001b[0m, in \u001b[0;36mTie_Point_Grid.to_PointShapefile\u001b[1;34m(self, path_out, skip_nodata, skip_nodata_col)\u001b[0m\n\u001b[0;32m    854\u001b[0m \u001b[38;5;28;01mdef\u001b[39;00m \u001b[38;5;21mto_PointShapefile\u001b[39m(\u001b[38;5;28mself\u001b[39m,\n\u001b[0;32m    855\u001b[0m                       path_out: \u001b[38;5;28mstr\u001b[39m \u001b[38;5;241m=\u001b[39m \u001b[38;5;28;01mNone\u001b[39;00m,\n\u001b[0;32m    856\u001b[0m                       skip_nodata: \u001b[38;5;28mbool\u001b[39m \u001b[38;5;241m=\u001b[39m \u001b[38;5;28;01mTrue\u001b[39;00m,\n\u001b[0;32m    857\u001b[0m                       skip_nodata_col: \u001b[38;5;28mstr\u001b[39m \u001b[38;5;241m=\u001b[39m \u001b[38;5;124m'\u001b[39m\u001b[38;5;124mABS_SHIFT\u001b[39m\u001b[38;5;124m'\u001b[39m\n\u001b[0;32m    858\u001b[0m                       ) \u001b[38;5;241m-\u001b[39m\u001b[38;5;241m>\u001b[39m \u001b[38;5;28;01mNone\u001b[39;00m:\n\u001b[0;32m    859\u001b[0m \u001b[38;5;250m    \u001b[39m\u001b[38;5;124;03m\"\"\"Write the calculated tie point grid to a point shapefile (e.g., for visualization by a GIS software).\u001b[39;00m\n\u001b[0;32m    860\u001b[0m \n\u001b[0;32m    861\u001b[0m \u001b[38;5;124;03m    NOTE: The shapefile uses Tie_Point_Grid.CoRegPoints_table as attribute table.\u001b[39;00m\n\u001b[1;32m   (...)\u001b[0m\n\u001b[0;32m    866\u001b[0m \u001b[38;5;124;03m                            identify points where no valid match could be found\u001b[39;00m\n\u001b[0;32m    867\u001b[0m \u001b[38;5;124;03m    \"\"\"\u001b[39;00m\n\u001b[1;32m--> 868\u001b[0m     \u001b[38;5;28;01mif\u001b[39;00m \u001b[38;5;28;43mself\u001b[39;49m\u001b[38;5;241;43m.\u001b[39;49m\u001b[43mCoRegPoints_table\u001b[49m\u001b[38;5;241m.\u001b[39mempty:\n\u001b[0;32m    869\u001b[0m         \u001b[38;5;28;01mraise\u001b[39;00m \u001b[38;5;167;01mRuntimeError\u001b[39;00m(\u001b[38;5;124m'\u001b[39m\u001b[38;5;124mCannot save a point shapefile because no tie points were found at all.\u001b[39m\u001b[38;5;124m'\u001b[39m)\n\u001b[0;32m    871\u001b[0m     GDF \u001b[38;5;241m=\u001b[39m \u001b[38;5;28mself\u001b[39m\u001b[38;5;241m.\u001b[39mCoRegPoints_table\n",
      "File \u001b[1;32m~\\anaconda3\\envs\\arosics\\lib\\site-packages\\arosics\\Tie_Point_Grid.py:203\u001b[0m, in \u001b[0;36mTie_Point_Grid.CoRegPoints_table\u001b[1;34m(self)\u001b[0m\n\u001b[0;32m    201\u001b[0m     \u001b[38;5;28;01mreturn\u001b[39;00m \u001b[38;5;28mself\u001b[39m\u001b[38;5;241m.\u001b[39m_CoRegPoints_table\n\u001b[0;32m    202\u001b[0m \u001b[38;5;28;01melse\u001b[39;00m:\n\u001b[1;32m--> 203\u001b[0m     \u001b[38;5;28mself\u001b[39m\u001b[38;5;241m.\u001b[39m_CoRegPoints_table \u001b[38;5;241m=\u001b[39m \u001b[38;5;28;43mself\u001b[39;49m\u001b[38;5;241;43m.\u001b[39;49m\u001b[43mget_CoRegPoints_table\u001b[49m\u001b[43m(\u001b[49m\u001b[43m)\u001b[49m\n\u001b[0;32m    204\u001b[0m     \u001b[38;5;28;01mreturn\u001b[39;00m \u001b[38;5;28mself\u001b[39m\u001b[38;5;241m.\u001b[39m_CoRegPoints_table\n",
      "File \u001b[1;32m~\\anaconda3\\envs\\arosics\\lib\\site-packages\\arosics\\Tie_Point_Grid.py:395\u001b[0m, in \u001b[0;36mTie_Point_Grid.get_CoRegPoints_table\u001b[1;34m(self)\u001b[0m\n\u001b[0;32m    393\u001b[0m bar \u001b[38;5;241m=\u001b[39m ProgressBar(prefix\u001b[38;5;241m=\u001b[39m\u001b[38;5;124m'\u001b[39m\u001b[38;5;130;01m\\t\u001b[39;00m\u001b[38;5;124mprogress:\u001b[39m\u001b[38;5;124m'\u001b[39m)\n\u001b[0;32m    394\u001b[0m \u001b[38;5;28;01mwhile\u001b[39;00m \u001b[38;5;28;01mTrue\u001b[39;00m:\n\u001b[1;32m--> 395\u001b[0m     \u001b[43msleep\u001b[49m\u001b[43m(\u001b[49m\u001b[38;5;241;43m.1\u001b[39;49m\u001b[43m)\u001b[49m\n\u001b[0;32m    396\u001b[0m     \u001b[38;5;66;03m# this does not really represent the remaining tasks but the remaining chunks\u001b[39;00m\n\u001b[0;32m    397\u001b[0m     \u001b[38;5;66;03m# -> thus chunksize=1\u001b[39;00m\n\u001b[0;32m    398\u001b[0m     \u001b[38;5;66;03m# noinspection PyProtectedMember\u001b[39;00m\n\u001b[0;32m    399\u001b[0m     numberDone \u001b[38;5;241m=\u001b[39m \u001b[38;5;28mlen\u001b[39m(GDF) \u001b[38;5;241m-\u001b[39m results\u001b[38;5;241m.\u001b[39m_number_left\n",
      "\u001b[1;31mKeyboardInterrupt\u001b[0m: "
     ]
    }
   ],
   "source": [
    "CRL.tiepoint_grid.to_PointShapefile(path_out=path+'AROSICS_output\\\\AROSICS_TiePoints_Local_B3_B33_20220530102847_____.shp')"
   ]
  },
  {
   "cell_type": "code",
   "execution_count": null,
   "id": "c90379a8",
   "metadata": {},
   "outputs": [],
   "source": [
    "n = 0\n",
    "while n < len(sentinel_bands):\n",
    "    CRL = COREG_LOCAL(im_reference,\n",
    "                      im_target, \n",
    "                      grid_res = 15,\n",
    "                      window_size =(50,50),\n",
    "                      max_shift = 30,\n",
    "                      align_grids =False,\n",
    "                      match_gsd=False,\n",
    "                      resamp_alg_deshift = 'nearest',\n",
    "                      resamp_alg_calc = 'nearest',\n",
    "                      path_out = path+'AROSICS_output\\\\Registered_20220530102847_AROSICS_Local_B{0}_B{1}.tif'.format(sentinel_bands_name[n], prisma_bands[n]),\n",
    "                      fmt_out = 'GTIFF',\n",
    "                      max_iter = 50,\n",
    "                      r_b4match = sentinel_bands[n],\n",
    "                      s_b4match = prisma_bands[n],\n",
    "                      ignore_errors = True)\n",
    "    \n",
    "    CRL.correct_shifts()\n",
    "    points = CRL.CoRegPoints_table\n",
    "    CRL.tiepoint_grid.to_PointShapefile(path_out=path+'AROSICS_output\\\\AROSICS_TiePoints_Local_B{0}_B{1}_20220530102847.shp'.format(sentinel_bands_name[n], prisma_bands[n]))\n",
    "\n",
    "    n+=1"
   ]
  },
  {
   "cell_type": "code",
   "execution_count": null,
   "id": "9dbfb9bf",
   "metadata": {},
   "outputs": [],
   "source": []
  },
  {
   "cell_type": "code",
   "execution_count": null,
   "id": "87780182",
   "metadata": {},
   "outputs": [],
   "source": [
    "====================================================================================================================\n",
    "'''OPTIMIZAZTION TIE POINTS'''\n",
    "===================================================================================================================="
   ]
  },
  {
   "cell_type": "code",
   "execution_count": null,
   "id": "60b21610",
   "metadata": {},
   "outputs": [],
   "source": [
    "path = 'C:\\\\Users\\\\IBE_TEST\\\\Documents\\\\CNR-IBE\\\\Dati\\\\PRISMA_pansharpening_project\\\\ARBOREA\\\\AROSICS_output\\\\'"
   ]
  },
  {
   "cell_type": "code",
   "execution_count": null,
   "id": "f5d7a15a",
   "metadata": {},
   "outputs": [],
   "source": [
    "lista_files = []\n",
    "dirFileList = os.listdir(path) #legge la cartella 1\n",
    "os.chdir(path) #setta la cartella\n",
    "for file in dirFileList: #per ciascun file nella cartella 1\n",
    "    if os.path.splitext(file)[-1] == '.shp': #le cui ultime lettere sono \".img\"\n",
    "        lista_files.append(os.path.join(path, file)) #aggiungile alla lista vuot\n",
    "\n",
    "lista_files"
   ]
  },
  {
   "cell_type": "code",
   "execution_count": null,
   "id": "297246eb",
   "metadata": {},
   "outputs": [],
   "source": [
    "order_bands = []\n",
    "i = 0\n",
    "while i < len(lista_files):\n",
    "    if i == 0:\n",
    "        f = gpd.read_file(lista_files[i])\n",
    "        name_s2_band = lista_files[i].split(\"_\")[-3] \n",
    "        order_bands.append(name_s2_band)\n",
    "        f['S2_Band'] = name_s2_band\n",
    "    if i > 0:\n",
    "        f2 = gpd.read_file(lista_files[i])\n",
    "        name_s2_band = lista_files[i].split(\"_\")[-3] \n",
    "        order_bands.append(name_s2_band)\n",
    "        f2['S2_Band'] = name_s2_band\n",
    "        f = f.merge(f2,on='POINT_ID', how='inner', suffixes=(None, '_'+name_s2_band))\n",
    "    \n",
    "    i+=1"
   ]
  },
  {
   "cell_type": "code",
   "execution_count": null,
   "id": "8acb1523",
   "metadata": {},
   "outputs": [],
   "source": [
    "#print columns\n",
    "np.unique(f.columns)"
   ]
  },
  {
   "cell_type": "code",
   "execution_count": null,
   "id": "35350fe2",
   "metadata": {},
   "outputs": [],
   "source": [
    "b = dict()\n",
    "\n",
    "b['RELIABILITY'] = np.array(f[['RELIABILIT', 'RELIABILIT_B12', 'RELIABILIT_B2',\n",
    "       'RELIABILIT_B3', 'RELIABILIT_B4', 'RELIABILIT_B5', 'RELIABILIT_B6',\n",
    "       'RELIABILIT_B7', 'RELIABILIT_B8']])\n",
    "b['POINT_ID'] = np.array(f['POINT_ID'])\n",
    "b['X_IM'] = np.array(f[['X_IM', 'X_IM_B12', 'X_IM_B2', 'X_IM_B3',\n",
    "       'X_IM_B4', 'X_IM_B5', 'X_IM_B6', 'X_IM_B7', 'X_IM_B8']])\n",
    "b['X_MAP'] = np.array(f[['X_MAP',\n",
    "       'X_MAP_B12', 'X_MAP_B2', 'X_MAP_B3', 'X_MAP_B4', 'X_MAP_B5',\n",
    "       'X_MAP_B6', 'X_MAP_B7', 'X_MAP_B8']])\n",
    "b['Y_IM'] = np.array(f[['Y_IM', 'Y_IM_B12', 'Y_IM_B2',\n",
    "       'Y_IM_B3', 'Y_IM_B4', 'Y_IM_B5', 'Y_IM_B6', 'Y_IM_B7', 'Y_IM_B8']])\n",
    "b['Y_MAP'] = np.array(f[['Y_MAP', 'Y_MAP_B12', 'Y_MAP_B2', 'Y_MAP_B3', 'Y_MAP_B4',\n",
    "       'Y_MAP_B5', 'Y_MAP_B6', 'Y_MAP_B7', 'Y_MAP_B8']])\n",
    "b['S2_Band'] = np.array(f[['S2_Band', 'S2_Band_B12',\n",
    "       'S2_Band_B2', 'S2_Band_B3', 'S2_Band_B4', 'S2_Band_B5',\n",
    "       'S2_Band_B6', 'S2_Band_B7', 'S2_Band_B8']])\n",
    "\n",
    "b['ABS_SHIFT'] = np.array(f[['ABS_SHIFT', 'ABS_SHIFT_B12', 'ABS_SHIFT_B2', 'ABS_SHIFT_B3',\n",
    "       'ABS_SHIFT_B4', 'ABS_SHIFT_B5', 'ABS_SHIFT_B6', 'ABS_SHIFT_B7',\n",
    "       'ABS_SHIFT_B8']])\n",
    "b['ANGLE'] = np.array(f[['ANGLE', 'ANGLE_B12', 'ANGLE_B2', 'ANGLE_B3',\n",
    "       'ANGLE_B4', 'ANGLE_B5', 'ANGLE_B6', 'ANGLE_B7', 'ANGLE_B8']])\n",
    "b['L1_OUTLIER'] = np.array(f[['L1_OUTLIER', 'L1_OUTLIER_B12', 'L1_OUTLIER_B2', 'L1_OUTLIER_B3',\n",
    "       'L1_OUTLIER_B4', 'L1_OUTLIER_B5', 'L1_OUTLIER_B6', 'L1_OUTLIER_B7',\n",
    "       'L1_OUTLIER_B8' ]])\n",
    "b['L2_OUTLIER'] = np.array(f[['L2_OUTLIER', 'L2_OUTLIER_B12', 'L2_OUTLIER_B2', 'L2_OUTLIER_B3',\n",
    "       'L2_OUTLIER_B4', 'L2_OUTLIER_B5', 'L2_OUTLIER_B6', 'L2_OUTLIER_B7',\n",
    "       'L2_OUTLIER_B8' ]])\n",
    "b['L3_OUTLIER'] = np.array(f[['L3_OUTLIER', 'L3_OUTLIER_B12', 'L3_OUTLIER_B2', 'L3_OUTLIER_B3',\n",
    "       'L3_OUTLIER_B4', 'L3_OUTLIER_B5', 'L3_OUTLIER_B6', 'L3_OUTLIER_B7',\n",
    "       'L3_OUTLIER_B8']])\n",
    "b['LAST_ERR'] = np.array(f[['LAST_ERR', 'LAST_ERR_B12', 'LAST_ERR_B2', 'LAST_ERR_B3', 'LAST_ERR_B4',\n",
    "       'LAST_ERR_B5', 'LAST_ERR_B6', 'LAST_ERR_B7', 'LAST_ERR_B8']])\n",
    "b['OUTLIER'] = np.array(f[['OUTLIER', 'OUTLIER_B12', 'OUTLIER_B2', 'OUTLIER_B3', 'OUTLIER_B4',\n",
    "       'OUTLIER_B5', 'OUTLIER_B6', 'OUTLIER_B7', 'OUTLIER_B8']])\n",
    "b['REF_BADDAT'] = np.array(f[['REF_BADDAT', 'REF_BADDAT_B12', 'REF_BADDAT_B2', 'REF_BADDAT_B3',\n",
    "       'REF_BADDAT_B4', 'REF_BADDAT_B5', 'REF_BADDAT_B6', 'REF_BADDAT_B7',\n",
    "       'REF_BADDAT_B8' ]])\n",
    "b['SSIM_AFTER'] = np.array(f[['SSIM_AFTER',\n",
    "       'SSIM_AFTER_B12', 'SSIM_AFTER_B2', 'SSIM_AFTER_B3',\n",
    "       'SSIM_AFTER_B4', 'SSIM_AFTER_B5', 'SSIM_AFTER_B6', 'SSIM_AFTER_B7',\n",
    "       'SSIM_AFTER_B8' ]])\n",
    "b['SSIM_BEFOR'] = np.array(f[['SSIM_BEFOR', 'SSIM_BEFOR_B12', 'SSIM_BEFOR_B2',\n",
    "       'SSIM_BEFOR_B3', 'SSIM_BEFOR_B4', 'SSIM_BEFOR_B5', 'SSIM_BEFOR_B6',\n",
    "       'SSIM_BEFOR_B7', 'SSIM_BEFOR_B8']])\n",
    "b['SSIM_IMPRO'] = np.array(f[['SSIM_IMPRO', 'SSIM_IMPRO_B12',\n",
    "       'SSIM_IMPRO_B2', 'SSIM_IMPRO_B3', 'SSIM_IMPRO_B4', 'SSIM_IMPRO_B5',\n",
    "       'SSIM_IMPRO_B6', 'SSIM_IMPRO_B7', 'SSIM_IMPRO_B8' ]])\n",
    "b['TGT_BADDAT'] = np.array(f[['TGT_BADDAT',\n",
    "       'TGT_BADDAT_B12', 'TGT_BADDAT_B2', 'TGT_BADDAT_B3',\n",
    "       'TGT_BADDAT_B4', 'TGT_BADDAT_B5', 'TGT_BADDAT_B6', 'TGT_BADDAT_B7',\n",
    "       'TGT_BADDAT_B8' ]])\n",
    "b['X_SHIFT_M'] = np.array(f[['X_SHIFT_M', 'X_SHIFT_M_B12',\n",
    "       'X_SHIFT_M_B2', 'X_SHIFT_M_B3', 'X_SHIFT_M_B4', 'X_SHIFT_M_B5',\n",
    "       'X_SHIFT_M_B6', 'X_SHIFT_M_B7', 'X_SHIFT_M_B8']])\n",
    "b['X_SHIFT_PX'] = np.array(f[['X_SHIFT_PX',\n",
    "       'X_SHIFT_PX_B12', 'X_SHIFT_PX_B2', 'X_SHIFT_PX_B3',\n",
    "       'X_SHIFT_PX_B4', 'X_SHIFT_PX_B5', 'X_SHIFT_PX_B6', 'X_SHIFT_PX_B7',\n",
    "       'X_SHIFT_PX_B8' ]])\n",
    "b['X_WIN_SIZE'] = np.array(f[['X_WIN_SIZE', 'X_WIN_SIZE_B12', 'X_WIN_SIZE_B2',\n",
    "       'X_WIN_SIZE_B3', 'X_WIN_SIZE_B4', 'X_WIN_SIZE_B5', 'X_WIN_SIZE_B6',\n",
    "       'X_WIN_SIZE_B7', 'X_WIN_SIZE_B8' ]])\n",
    "b['Y_SHIFT_M'] = np.array(f[['Y_SHIFT_M',\n",
    "       'Y_SHIFT_M_B12', 'Y_SHIFT_M_B2', 'Y_SHIFT_M_B3', 'Y_SHIFT_M_B4',\n",
    "       'Y_SHIFT_M_B5', 'Y_SHIFT_M_B6', 'Y_SHIFT_M_B7', 'Y_SHIFT_M_B8']])\n",
    "b['Y_SHIFT_PX'] = np.array(f[['Y_SHIFT_PX', 'Y_SHIFT_PX_B12', 'Y_SHIFT_PX_B2', 'Y_SHIFT_PX_B3',\n",
    "       'Y_SHIFT_PX_B4', 'Y_SHIFT_PX_B5', 'Y_SHIFT_PX_B6', 'Y_SHIFT_PX_B7',\n",
    "       'Y_SHIFT_PX_B8' ]])\n",
    "b['Y_WIN_SIZE'] = np.array(f[['Y_WIN_SIZE', 'Y_WIN_SIZE_B12', 'Y_WIN_SIZE_B2',\n",
    "       'Y_WIN_SIZE_B3', 'Y_WIN_SIZE_B4', 'Y_WIN_SIZE_B5', 'Y_WIN_SIZE_B6',\n",
    "       'Y_WIN_SIZE_B7', 'Y_WIN_SIZE_B8' ]])\n",
    "\n",
    "b['geometry'] = np.array(f[['geometry', 'geometry_B12',\n",
    "       'geometry_B2', 'geometry_B3', 'geometry_B4', 'geometry_B5',\n",
    "       'geometry_B6', 'geometry_B7', 'geometry_B8']])"
   ]
  },
  {
   "cell_type": "code",
   "execution_count": null,
   "id": "15d43c34",
   "metadata": {},
   "outputs": [],
   "source": [
    "#applichiamo \n",
    "\n",
    "x = np.argsort(b['RELIABILITY']) #feature prescelta per argsort()\n",
    "\n",
    "\n",
    "RELIABILITY_sorted = np.take_along_axis(b['RELIABILITY'], x, axis=1) #ordinare in funzione di x (quindi della feature prescelta)\n",
    "X_IM = np.take_along_axis(b['X_IM'], x, axis=1) #ordinare in funzione di x (quindi della feature prescelta)\n",
    "X_MAP = np.take_along_axis(b['X_MAP'], x, axis=1) #ordinare in funzione di x (quindi della feature prescelta)\n",
    "Y_IM = np.take_along_axis(b['Y_IM'], x, axis=1) #ordinare in funzione di x (quindi della feature prescelta)\n",
    "Y_MAP  = np.take_along_axis(b['Y_MAP'], x, axis=1) #ordinare in funzione di x (quindi della feature prescelta)\n",
    "S2_Band  = np.take_along_axis(b['S2_Band'], x, axis=1) #ordinare in funzione di x (quindi della feature prescelta)\n",
    "geometry = np.take_along_axis(b['geometry'], x, axis=1) #ordinare in funzione di x (quindi della feature prescelta)\n",
    "\n",
    "ABS_SHIFT = np.take_along_axis(b['ABS_SHIFT'], x, axis=1) #ordinare in funzione di x (quindi della feature prescelta)\n",
    "ANGLE= np.take_along_axis(b['ANGLE'], x, axis=1) #ordinare in funzione di x (quindi della feature prescelta)\n",
    "L1_OUTLIER= np.take_along_axis(b['L1_OUTLIER'], x, axis=1) #ordinare in funzione di x (quindi della feature prescelta)\n",
    "L2_OUTLIER= np.take_along_axis(b['L2_OUTLIER'], x, axis=1) #ordinare in funzione di x (quindi della feature prescelta)\n",
    "L3_OUTLIER= np.take_along_axis(b['L3_OUTLIER'], x, axis=1) #ordinare in funzione di x (quindi della feature prescelta)\n",
    "LAST_ERR= np.take_along_axis(b['LAST_ERR'], x, axis=1) #ordinare in funzione di x (quindi della feature prescelta)\n",
    "OUTLIER= np.take_along_axis(b['OUTLIER'], x, axis=1) #ordinare in funzione di x (quindi della feature prescelta)\n",
    "REF_BADDAT= np.take_along_axis(b['REF_BADDAT'], x, axis=1) #ordinare in funzione di x (quindi della feature prescelta)\n",
    "SSIM_AFTER= np.take_along_axis(b['SSIM_AFTER'], x, axis=1) #ordinare in funzione di x (quindi della feature prescelta)\n",
    "SSIM_BEFOR= np.take_along_axis(b['SSIM_BEFOR'], x, axis=1) #ordinare in funzione di x (quindi della feature prescelta)\n",
    "SSIM_IMPRO= np.take_along_axis(b['SSIM_IMPRO'], x, axis=1) #ordinare in funzione di x (quindi della feature prescelta)\n",
    "TGT_BADDAT= np.take_along_axis(b['TGT_BADDAT'], x, axis=1) #ordinare in funzione di x (quindi della feature prescelta)\n",
    "X_SHIFT_M= np.take_along_axis(b['X_SHIFT_M'], x, axis=1) #ordinare in funzione di x (quindi della feature prescelta)\n",
    "X_SHIFT_PX= np.take_along_axis(b['X_SHIFT_PX'], x, axis=1) #ordinare in funzione di x (quindi della feature prescelta)\n",
    "X_WIN_SIZE= np.take_along_axis(b['X_WIN_SIZE'], x, axis=1) #ordinare in funzione di x (quindi della feature prescelta)\n",
    "Y_SHIFT_M= np.take_along_axis(b['Y_SHIFT_M'], x, axis=1) #ordinare in funzione di x (quindi della feature prescelta)\n",
    "Y_SHIFT_PX= np.take_along_axis(b['Y_SHIFT_PX'], x, axis=1) #ordinare in funzione di x (quindi della feature prescelta)\n",
    "Y_WIN_SIZE= np.take_along_axis(b['Y_WIN_SIZE'], x, axis=1) #ordinare in funzione di x (quindi della feature prescelta)"
   ]
  },
  {
   "cell_type": "code",
   "execution_count": null,
   "id": "3c5c12b1",
   "metadata": {},
   "outputs": [],
   "source": [
    "final_composite = np.stack((b['POINT_ID'],\n",
    "                            X_IM[:,-1], #essendo in ordine decrescente, prendiamo l'ultima colonna così da avere i valori corrispondenti ai valori più alti della feature prescelta (x)\n",
    "                            Y_IM[:,-1],\n",
    "                            X_MAP[:,-1], \n",
    "                            Y_MAP[:,-1], \n",
    "                            RELIABILITY_sorted[:,-1],\n",
    "                            S2_Band[:,-1],\n",
    "                            \n",
    "                            ABS_SHIFT[:, -1],\n",
    "                            ANGLE[:, -1],\n",
    "                            L1_OUTLIER[:, -1],\n",
    "                            L2_OUTLIER[:, -1],\n",
    "                            L3_OUTLIER[:, -1],\n",
    "                            LAST_ERR[:, -1],\n",
    "                            OUTLIER[:, -1],\n",
    "                            REF_BADDAT[:, -1],\n",
    "                            SSIM_AFTER[:, -1],\n",
    "                            SSIM_BEFOR[:, -1],\n",
    "                            SSIM_IMPRO[:, -1],\n",
    "                            TGT_BADDAT[:, -1],\n",
    "                            X_SHIFT_M[:, -1],\n",
    "                            X_SHIFT_PX[:, -1],\n",
    "                            X_WIN_SIZE[:, -1],\n",
    "                            Y_SHIFT_M[:, -1],\n",
    "                            Y_SHIFT_PX[:, -1],\n",
    "                            Y_WIN_SIZE[:, -1],\n",
    "                            geometry[:,-1]), \n",
    "                           axis=-1)\n",
    "\n",
    "\n",
    "\n",
    "final_composite = gpd.GeoDataFrame(final_composite, columns= ['POINT_ID', 'X_IM', 'Y_IM', 'X_MAP', 'Y_MAP', 'RELIABILIT', 'S2_Band', 'ABS_SHIFT','ANGLE','L1_OUTLIER','L2_OUTLIER','L3_OUTLIER','LAST_ERR','OUTLIER','REF_BADDAT','SSIM_AFTER','SSIM_BEFOR','SSIM_IMPRO','TGT_BADDAT','X_SHIFT_M','X_SHIFT_PX','X_WIN_SIZE','Y_SHIFT_M','Y_SHIFT_PX','Y_WIN_SIZE', 'geometry'])\n",
    "\n",
    "final_composite = final_composite.astype({'POINT_ID': 'int64', \n",
    "                        'X_IM':  'int64', \n",
    "                        'Y_IM':  'int64', \n",
    "                        'X_MAP':  'float64', \n",
    "                        'Y_MAP': 'float64' , \n",
    "                        'X_SHIFT_M': 'float64' ,\n",
    "                        'X_SHIFT_PX': 'float64' ,\n",
    "                        'X_WIN_SIZE': 'float64' ,\n",
    "                        'Y_SHIFT_M': 'float64' ,\n",
    "                        'Y_SHIFT_PX': 'float64' ,\n",
    "                        'Y_WIN_SIZE': 'float64'})"
   ]
  },
  {
   "cell_type": "code",
   "execution_count": null,
   "id": "687bc5e0",
   "metadata": {},
   "outputs": [],
   "source": [
    "'''GET GCPS FROM AROSICS Tie Points TABLE'''\n",
    "\n",
    "#apply shifting to the points\n",
    "#applying the modificaiton during the dataframe construction\n",
    "\n",
    "\n",
    "'''\n",
    "se volessimo usare un dataframe esterno. Ma attenzione perchè delle volte fallisce gdal.Warp\n",
    "a causa del dtype del dataframe\n",
    "\n",
    "points = gpd.read_file(path+'AROSICS_TiePoints_Local_HigherReliability_20200801.shp')\n",
    "\n",
    "gcps = pd.DataFrame({'X': pd.to_numeric(points['X_MAP'])+pd.to_numeric(points['X_SHIFT_M']), \n",
    "                     'Y': pd.to_numeric(points['Y_MAP'])+pd.to_numeric(points['Y_SHIFT_M']),\n",
    "                     'Col': pd.to_numeric(points['X_IM']), \n",
    "                     'Row': pd.to_numeric(points['Y_IM'])}) \n",
    "'''\n",
    "\n",
    "\n",
    "\n",
    "#quindi, utilizziamo direttamente le colonne dell'arrey sorted, selezioniamo comunque i punti che hanno raggiunto RELIABILITY>70%:\n",
    "gcps_VNIR_SWIR = pd.DataFrame({'X': X_MAP[:,-1][RELIABILITY_sorted[:,-1]>70]+X_SHIFT_M[:,-1][RELIABILITY_sorted[:,-1]>70], \n",
    "                     'Y': Y_MAP[:,-1][RELIABILITY_sorted[:,-1]>70]+Y_SHIFT_M[:,-1][RELIABILITY_sorted[:,-1]>70],\n",
    "                     'Col': X_IM[:,-1][RELIABILITY_sorted[:,-1]>70], \n",
    "                     'Row': Y_IM[:,-1][RELIABILITY_sorted[:,-1]>70]})\n",
    "\n",
    "#gcps for PANCHROMATIC image: since it is at 5m instead of 30m, the position of the X/Y-IM must be multiplied for 6\n",
    "gcps_PAN = pd.DataFrame({'X': X_MAP[:,-1][RELIABILITY_sorted[:,-1]>70]+X_SHIFT_M[:,-1][RELIABILITY_sorted[:,-1]>70], \n",
    "                     'Y': Y_MAP[:,-1][RELIABILITY_sorted[:,-1]>70]+Y_SHIFT_M[:,-1][RELIABILITY_sorted[:,-1]>70],\n",
    "                     'Col': X_IM[:,-1][RELIABILITY_sorted[:,-1]>70]*6, \n",
    "                     'Row': Y_IM[:,-1][RELIABILITY_sorted[:,-1]>70]*6})\n",
    "\n",
    "\n",
    "'''\n",
    "gcps = pd.DataFrame({'X': X_MAP[:,-1]+X_SHIFT_M[:,-1], \n",
    "                     'Y': Y_MAP[:,-1]+Y_SHIFT_M[:,-1],\n",
    "                     'Col': X_IM[:,-1], \n",
    "                     'Row': Y_IM[:,-1]})\n",
    "\n",
    "\n",
    "\n",
    "\n",
    "#gcps for PANCHROMATIC image: since it is at 5m instead of 30m, the position of the X/Y-IM must be multiplied for 6\n",
    "gcps_PAN = pd.DataFrame({'X': X_MAP[:,-1]+X_SHIFT_M[:,-1], \n",
    "                     'Y': Y_MAP[:,-1]+Y_SHIFT_M[:,-1],\n",
    "                     'Col': X_IM[:,-1]*6, \n",
    "                     'Row': Y_IM[:,-1]*6})\n",
    "'''\n",
    "\n",
    "#create GDAL GCPs\n",
    "gcps_gdal_VNIR_SWIR = [gdal.GCP(row['X'], row['Y'],0, row['Col'], row['Row']) for index, row in gcps_VNIR_SWIR.iterrows()] ### \"gcps_VNIR_SWIR\" or \"gcps_PAN\"\n",
    "gcps_gdal_PAN = [gdal.GCP(row['X'], row['Y'],0, row['Col'], row['Row']) for index, row in gcps_PAN.iterrows()] ### \"gcps_VNIR_SWIR\" or \"gcps_PAN\"\n"
   ]
  },
  {
   "cell_type": "code",
   "execution_count": null,
   "id": "16a1be06",
   "metadata": {},
   "outputs": [],
   "source": [
    "path = 'C:\\\\Users\\\\IBE_TEST\\\\Documents\\\\CNR-IBE\\\\Dati\\\\PRISMA_pansharpening_project\\\\ARBOREA\\\\'"
   ]
  },
  {
   "cell_type": "code",
   "execution_count": null,
   "id": "7d5994cc",
   "metadata": {},
   "outputs": [],
   "source": [
    "kwargs = {\n",
    "    'format': 'GTiff',\n",
    "    'outputType': gdal.GDT_Float32}\n",
    "\n",
    "output_image = path+'output_translate_poly2.tif'\n",
    "ds_gcp = gdal.Translate(output_image, \n",
    "                        path+'PRS_L2D_STD_20200627102358_20200627102402_0001_VNIR_SWIR.tif', \n",
    "                        outputSRS='EPSG:32632', \n",
    "                        GCPs=gcps_gdal_VNIR_SWIR,\n",
    "                        **kwargs)\n",
    "\n",
    "\n",
    "options = gdal.WarpOptions(dstSRS='EPSG:32632', polynomialOrder=2, targetAlignedPixels=True, xRes=30, yRes =30)\n",
    "ds = gdal.Warp(path+'AROSICS_output\\\\PRS_L2D_STD_20200627102358_20200627102402_0001_VNIR_SWIR_Warped_poly2aligned.tif', ds_gcp, dstNodata = np.nan, options=options)\n",
    "ds_gcp = None\n",
    "ds = None\n",
    "\n",
    "\n",
    "\n",
    "\n",
    "\n",
    "\n",
    "output_image_pan = path+'output_translate_poly2_PAN.tif'\n",
    "ds_gcp_pan = gdal.Translate(output_image_pan, \n",
    "                        path+'PRS_L2D_STD_20200627102358_20200627102402_0001_PAN.tif', \n",
    "                        outputSRS='EPSG:32632', \n",
    "                        GCPs=gcps_gdal_PAN,\n",
    "                        **kwargs)\n",
    "\n",
    "\n",
    "options_pan = gdal.WarpOptions(dstSRS='EPSG:32632', polynomialOrder=2, targetAlignedPixels=True, xRes=5, yRes =5)\n",
    "ds_pan = gdal.Warp(path+'AROSICS_output\\\\PRS_L2D_STD_20200627102358_20200627102402_0001_PAN_Warped_poly2aligned.tif', ds_gcp_pan, dstNodata = np.nan, options=options_pan)\n",
    "ds_gcp_pan = None\n",
    "ds_pan = None"
   ]
  },
  {
   "cell_type": "code",
   "execution_count": null,
   "id": "b134eab9",
   "metadata": {},
   "outputs": [],
   "source": []
  }
 ],
 "metadata": {
  "kernelspec": {
   "display_name": "Python 3 (ipykernel)",
   "language": "python",
   "name": "python3"
  },
  "language_info": {
   "codemirror_mode": {
    "name": "ipython",
    "version": 3
   },
   "file_extension": ".py",
   "mimetype": "text/x-python",
   "name": "python",
   "nbconvert_exporter": "python",
   "pygments_lexer": "ipython3",
   "version": "3.8.17"
  }
 },
 "nbformat": 4,
 "nbformat_minor": 5
}
